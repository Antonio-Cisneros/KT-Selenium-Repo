{
 "cells": [
  {
   "cell_type": "code",
   "execution_count": 1,
   "source": [
    "import os\r\n",
    "import pandas as pd\r\n",
    "from selenium import webdriver"
   ],
   "outputs": [],
   "metadata": {}
  },
  {
   "cell_type": "code",
   "execution_count": 2,
   "source": [
    "os.getcwdb()"
   ],
   "outputs": [
    {
     "output_type": "execute_result",
     "data": {
      "text/plain": [
       "b'c:\\\\Users\\\\antonio.cisneros\\\\Documents\\\\Python_selenium'"
      ]
     },
     "metadata": {},
     "execution_count": 2
    }
   ],
   "metadata": {}
  },
  {
   "cell_type": "code",
   "execution_count": 3,
   "source": [
    "excel_file = pd.read_excel(\"selenium_test.xlsx\", sheet_name=\"xpaths\")\r\n",
    "excel_file.head()"
   ],
   "outputs": [
    {
     "output_type": "execute_result",
     "data": {
      "text/plain": [
       "          Name                                  url  \\\n",
       "0      re_link      https://eloquentjavascript.net/   \n",
       "1        image      https://eloquentjavascript.net/   \n",
       "2  github_logo  https://github.com/Antonio-Cisneros   \n",
       "\n",
       "                                               Value  \n",
       "0                     //*[@id=\"contents\"]/ol/li[2]/a  \n",
       "1                        //*[@id=\"cover\"]/p[1]/a/img  \n",
       "2  //*[@id=\"js-pjax-container\"]/div[2]/div/div[1]...  "
      ],
      "text/html": [
       "<div>\n",
       "<style scoped>\n",
       "    .dataframe tbody tr th:only-of-type {\n",
       "        vertical-align: middle;\n",
       "    }\n",
       "\n",
       "    .dataframe tbody tr th {\n",
       "        vertical-align: top;\n",
       "    }\n",
       "\n",
       "    .dataframe thead th {\n",
       "        text-align: right;\n",
       "    }\n",
       "</style>\n",
       "<table border=\"1\" class=\"dataframe\">\n",
       "  <thead>\n",
       "    <tr style=\"text-align: right;\">\n",
       "      <th></th>\n",
       "      <th>Name</th>\n",
       "      <th>url</th>\n",
       "      <th>Value</th>\n",
       "    </tr>\n",
       "  </thead>\n",
       "  <tbody>\n",
       "    <tr>\n",
       "      <th>0</th>\n",
       "      <td>re_link</td>\n",
       "      <td>https://eloquentjavascript.net/</td>\n",
       "      <td>//*[@id=\"contents\"]/ol/li[2]/a</td>\n",
       "    </tr>\n",
       "    <tr>\n",
       "      <th>1</th>\n",
       "      <td>image</td>\n",
       "      <td>https://eloquentjavascript.net/</td>\n",
       "      <td>//*[@id=\"cover\"]/p[1]/a/img</td>\n",
       "    </tr>\n",
       "    <tr>\n",
       "      <th>2</th>\n",
       "      <td>github_logo</td>\n",
       "      <td>https://github.com/Antonio-Cisneros</td>\n",
       "      <td>//*[@id=\"js-pjax-container\"]/div[2]/div/div[1]...</td>\n",
       "    </tr>\n",
       "  </tbody>\n",
       "</table>\n",
       "</div>"
      ]
     },
     "metadata": {},
     "execution_count": 3
    }
   ],
   "metadata": {}
  },
  {
   "cell_type": "code",
   "execution_count": 4,
   "source": [
    "print(excel_file['Name'])\r\n",
    "print(excel_file['url'])\r\n",
    "print(print(excel_file['Value']))"
   ],
   "outputs": [
    {
     "output_type": "stream",
     "name": "stdout",
     "text": [
      "0        re_link\n",
      "1          image\n",
      "2    github_logo\n",
      "Name: Name, dtype: object\n",
      "0        https://eloquentjavascript.net/\n",
      "1        https://eloquentjavascript.net/\n",
      "2    https://github.com/Antonio-Cisneros\n",
      "Name: url, dtype: object\n",
      "0                       //*[@id=\"contents\"]/ol/li[2]/a\n",
      "1                          //*[@id=\"cover\"]/p[1]/a/img\n",
      "2    //*[@id=\"js-pjax-container\"]/div[2]/div/div[1]...\n",
      "Name: Value, dtype: object\n",
      "None\n"
     ]
    }
   ],
   "metadata": {}
  },
  {
   "cell_type": "code",
   "execution_count": 5,
   "source": [
    "xpath_dict = excel_file.to_dict()\r\n",
    "xpath_dict"
   ],
   "outputs": [
    {
     "output_type": "execute_result",
     "data": {
      "text/plain": [
       "{'Name': {0: 're_link', 1: 'image', 2: 'github_logo'},\n",
       " 'url': {0: 'https://eloquentjavascript.net/',\n",
       "  1: 'https://eloquentjavascript.net/',\n",
       "  2: 'https://github.com/Antonio-Cisneros'},\n",
       " 'Value': {0: '//*[@id=\"contents\"]/ol/li[2]/a',\n",
       "  1: '//*[@id=\"cover\"]/p[1]/a/img',\n",
       "  2: '//*[@id=\"js-pjax-container\"]/div[2]/div/div[1]/div/div[2]/div[1]/div[1]/a/img'}}"
      ]
     },
     "metadata": {},
     "execution_count": 5
    }
   ],
   "metadata": {}
  },
  {
   "cell_type": "code",
   "execution_count": 6,
   "source": [
    "print(xpath_dict['url'][0])\r\n",
    "print(xpath_dict['Value'][0])"
   ],
   "outputs": [
    {
     "output_type": "stream",
     "name": "stdout",
     "text": [
      "https://eloquentjavascript.net/\n",
      "//*[@id=\"contents\"]/ol/li[2]/a\n"
     ]
    }
   ],
   "metadata": {}
  },
  {
   "cell_type": "code",
   "execution_count": 7,
   "source": [
    "driver = webdriver.Chrome()\r\n",
    "\r\n",
    "driver.get(xpath_dict['url'][0])\r\n",
    "driver.find_element_by_xpath(xpath_dict['Value'][0]).click()"
   ],
   "outputs": [],
   "metadata": {}
  },
  {
   "cell_type": "code",
   "execution_count": 8,
   "source": [
    "print(xpath_dict['url'][1])\r\n",
    "print(xpath_dict['Value'][1])"
   ],
   "outputs": [
    {
     "output_type": "stream",
     "name": "stdout",
     "text": [
      "https://eloquentjavascript.net/\n",
      "//*[@id=\"cover\"]/p[1]/a/img\n"
     ]
    }
   ],
   "metadata": {}
  },
  {
   "cell_type": "code",
   "execution_count": 8,
   "source": [
    "driver = webdriver.Chrome()\r\n",
    "\r\n",
    "driver.get(xpath_dict['url'][1])\r\n",
    "with open('Elo_java.png', 'wb') as file:\r\n",
    "    file.write(driver.find_element_by_xpath(xpath_dict['Value'][1]).screenshot_as_png)\r\n",
    "driver.implicitly_wait(20)"
   ],
   "outputs": [],
   "metadata": {}
  },
  {
   "cell_type": "code",
   "execution_count": 9,
   "source": [
    "print(xpath_dict['url'][2])\r\n",
    "print(xpath_dict['Value'][2])"
   ],
   "outputs": [
    {
     "output_type": "stream",
     "name": "stdout",
     "text": [
      "https://github.com/Antonio-Cisneros\n",
      "//*[@id=\"js-pjax-container\"]/div[2]/div/div[1]/div/div[2]/div[1]/div[1]/a/img\n"
     ]
    }
   ],
   "metadata": {}
  },
  {
   "cell_type": "code",
   "execution_count": 10,
   "source": [
    "driver = webdriver.Chrome()\r\n",
    "\r\n",
    "driver.get(xpath_dict['url'][2])\r\n",
    "with open('Antonio_Cisneros.png', 'wb') as file:\r\n",
    "    file.write(driver.find_element_by_xpath(xpath_dict['Value'][2]).screenshot_as_png)\r\n",
    "driver.implicitly_wait(20)"
   ],
   "outputs": [],
   "metadata": {}
  }
 ],
 "metadata": {
  "orig_nbformat": 4,
  "language_info": {
   "name": "python",
   "version": "3.9.6",
   "mimetype": "text/x-python",
   "codemirror_mode": {
    "name": "ipython",
    "version": 3
   },
   "pygments_lexer": "ipython3",
   "nbconvert_exporter": "python",
   "file_extension": ".py"
  },
  "kernelspec": {
   "name": "python3",
   "display_name": "Python 3.9.6 64-bit"
  },
  "interpreter": {
   "hash": "695fdcca269af3d6a8ba574644b28da51c179bed1508fadbe7ac7893d6027de2"
  }
 },
 "nbformat": 4,
 "nbformat_minor": 2
}