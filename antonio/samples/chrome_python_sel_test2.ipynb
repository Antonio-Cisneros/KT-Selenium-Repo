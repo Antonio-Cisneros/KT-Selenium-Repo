{
 "cells": [
  {
   "cell_type": "code",
   "execution_count": 1,
   "source": [
    "import time\r\n",
    "from selenium import webdriver"
   ],
   "outputs": [],
   "metadata": {}
  },
  {
   "cell_type": "code",
   "execution_count": 2,
   "source": [
    "driver = webdriver.Chrome()\r\n",
    "driver.get('http://www.google.com/')\r\n",
    "\r\n",
    "time.sleep(5)\r\n",
    "search_box = driver.find_element_by_name('q')\r\n",
    "search_box.send_keys('Cibersecurity')\r\n",
    "search_box.submit()\r\n",
    "time.sleep(5)\r\n",
    "driver.quit()"
   ],
   "outputs": [],
   "metadata": {}
  },
  {
   "cell_type": "code",
   "execution_count": null,
   "source": [],
   "outputs": [],
   "metadata": {}
  }
 ],
 "metadata": {
  "orig_nbformat": 4,
  "language_info": {
   "name": "python",
   "version": "3.9.6",
   "mimetype": "text/x-python",
   "codemirror_mode": {
    "name": "ipython",
    "version": 3
   },
   "pygments_lexer": "ipython3",
   "nbconvert_exporter": "python",
   "file_extension": ".py"
  },
  "kernelspec": {
   "name": "python3",
   "display_name": "Python 3.9.6 64-bit"
  },
  "interpreter": {
   "hash": "695fdcca269af3d6a8ba574644b28da51c179bed1508fadbe7ac7893d6027de2"
  }
 },
 "nbformat": 4,
 "nbformat_minor": 2
}