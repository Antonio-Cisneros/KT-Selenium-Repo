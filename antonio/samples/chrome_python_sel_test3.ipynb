{
 "cells": [
  {
   "cell_type": "code",
   "execution_count": 1,
   "source": [
    "# Libraries\r\n",
    "from selenium import webdriver\r\n",
    "from selenium.webdriver.support.ui import WebDriverWait\r\n",
    "from selenium.webdriver.common.by import By"
   ],
   "outputs": [],
   "metadata": {}
  },
  {
   "cell_type": "code",
   "execution_count": 2,
   "source": [
    "driver = webdriver.Chrome()\r\n",
    "driver.get(\"https://mx.aliexpress.com/\")\r\n",
    "driver.set_page_load_timeout(45)\r\n",
    "driver.maximize_window()\r\n",
    "driver.implicitly_wait(20)\r\n",
    "driver.get_screenshot_as_file(\"Ali.png\")\r\n",
    "print (\"Executed Successfully\")"
   ],
   "outputs": [
    {
     "output_type": "stream",
     "name": "stdout",
     "text": [
      "Executed Successfully\n"
     ]
    }
   ],
   "metadata": {}
  }
 ],
 "metadata": {
  "orig_nbformat": 4,
  "language_info": {
   "name": "python",
   "version": "3.9.6",
   "mimetype": "text/x-python",
   "codemirror_mode": {
    "name": "ipython",
    "version": 3
   },
   "pygments_lexer": "ipython3",
   "nbconvert_exporter": "python",
   "file_extension": ".py"
  },
  "kernelspec": {
   "name": "python3",
   "display_name": "Python 3.9.6 64-bit"
  },
  "interpreter": {
   "hash": "695fdcca269af3d6a8ba574644b28da51c179bed1508fadbe7ac7893d6027de2"
  }
 },
 "nbformat": 4,
 "nbformat_minor": 2
}