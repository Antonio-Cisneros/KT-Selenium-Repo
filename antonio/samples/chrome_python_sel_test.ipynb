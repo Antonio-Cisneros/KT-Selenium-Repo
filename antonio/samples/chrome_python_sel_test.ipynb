{
 "cells": [
  {
   "cell_type": "code",
   "execution_count": 1,
   "source": [
    "from selenium import webdriver\r\n",
    "from selenium.webdriver.common.keys import Keys"
   ],
   "outputs": [],
   "metadata": {}
  },
  {
   "cell_type": "code",
   "execution_count": 2,
   "source": [
    "driver = webdriver.Chrome()\r\n",
    "driver.get(\"https://www.python.org\")\r\n",
    "driver.implicitly_wait(5) # seconds\r\n",
    "print(driver.title)\r\n",
    "search_bar = driver.find_element_by_name(\"q\")\r\n",
    "search_bar.clear()\r\n",
    "search_bar.send_keys(\"getting started with python\")\r\n",
    "search_bar.send_keys(Keys.RETURN)\r\n",
    "print(driver.current_url)\r\n",
    "#driver.close()"
   ],
   "outputs": [
    {
     "output_type": "stream",
     "name": "stdout",
     "text": [
      "Welcome to Python.org\n",
      "https://www.python.org/search/?q=getting+started+with+python&submit=\n"
     ]
    }
   ],
   "metadata": {}
  }
 ],
 "metadata": {
  "kernelspec": {
   "name": "python3",
   "display_name": "Python 3.9.6 64-bit"
  },
  "language_info": {
   "codemirror_mode": {
    "name": "ipython",
    "version": 3
   },
   "file_extension": ".py",
   "mimetype": "text/x-python",
   "name": "python",
   "nbconvert_exporter": "python",
   "pygments_lexer": "ipython3",
   "version": "3.9.6"
  },
  "interpreter": {
   "hash": "695fdcca269af3d6a8ba574644b28da51c179bed1508fadbe7ac7893d6027de2"
  }
 },
 "nbformat": 4,
 "nbformat_minor": 5
}