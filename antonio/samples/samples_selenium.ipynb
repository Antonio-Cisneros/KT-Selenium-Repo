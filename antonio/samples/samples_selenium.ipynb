{
 "cells": [
  {
   "cell_type": "markdown",
   "source": [
    "## Selenium with Python"
   ],
   "metadata": {}
  },
  {
   "cell_type": "code",
   "execution_count": 2,
   "source": [
    "# Libraries\r\n",
    "import time\r\n",
    "from selenium import webdriver\r\n",
    "from selenium.webdriver.common.by import By\r\n",
    "from selenium.webdriver.chrome.options import Options\r\n",
    "#from selenium.webdriver.common.keys import Keys"
   ],
   "outputs": [],
   "metadata": {}
  },
  {
   "cell_type": "markdown",
   "source": [
    "#### Example 1"
   ],
   "metadata": {}
  },
  {
   "cell_type": "code",
   "execution_count": 2,
   "source": [
    "driver = webdriver.Chrome()\r\n",
    "\r\n",
    "page_url = \"https://www.linsoul.com/\"  \r\n",
    "driver.get(page_url) \r\n",
    "get_title = driver.title \r\n",
    "print(get_title)"
   ],
   "outputs": [
    {
     "output_type": "stream",
     "name": "stdout",
     "text": [
      "Best Audio Gear - High Quality Earphone Headphone DAC Amplifier Amp – Linsoul Audio\n"
     ]
    }
   ],
   "metadata": {}
  },
  {
   "cell_type": "markdown",
   "source": [
    "#### Example 2"
   ],
   "metadata": {}
  },
  {
   "cell_type": "code",
   "execution_count": 3,
   "source": [
    "driver = webdriver.Chrome() \r\n",
    "  \r\n",
    "driver.get('https://www.w3schools.com/') \r\n",
    "page_link = driver.find_elements(By.TAG_NAME, 'a')\r\n",
    "print(len(page_link))"
   ],
   "outputs": [
    {
     "output_type": "stream",
     "name": "stdout",
     "text": [
      "291\n"
     ]
    }
   ],
   "metadata": {}
  },
  {
   "cell_type": "markdown",
   "source": [
    "#### Example 3"
   ],
   "metadata": {}
  },
  {
   "cell_type": "code",
   "execution_count": null,
   "source": [
    "driver = webdriver.Chrome()\r\n",
    "\r\n",
    "driver.get(\"https://www.w3schools.com/\")\r\n",
    "driver.get(\"https://www.w3schools.com/html/default.asp\")\r\n",
    "driver.back()\r\n",
    "driver.implicitly_wait(20)\r\n",
    "driver.forward()"
   ],
   "outputs": [],
   "metadata": {}
  },
  {
   "cell_type": "markdown",
   "source": [
    "#### Example 4"
   ],
   "metadata": {}
  },
  {
   "cell_type": "code",
   "execution_count": null,
   "source": [
    "driver = webdriver.Chrome()  \r\n",
    "driver.get(\"https://twitter.com/login\")\r\n",
    "\r\n",
    "driver.find_element_by_xpath('//*[@id=\"react-root\"]/div/div/div[2]/main/div/div/div[2]/form/div/div[1]/label/div/div[2]/div/input').send_keys('onethewargladious@hotmail.com')\r\n",
    "\r\n",
    "driver.find_element_by_xpath('//*[@id=\"react-root\"]/div/div/div[2]/main/div/div/div[2]/form/div/div[2]/label/div/div[2]/div/input').send_keys('totis') \r\n",
    "  \r\n",
    "driver.find_element_by_xpath('//*[@id=\"react-root\"]/div/div/div[2]/main/div/div/div[2]/form/div/div[3]/div/div').click()"
   ],
   "outputs": [],
   "metadata": {}
  },
  {
   "cell_type": "markdown",
   "source": [
    "#### Example 5"
   ],
   "metadata": {}
  },
  {
   "cell_type": "code",
   "execution_count": null,
   "source": [
    "driver = webdriver.Chrome()\r\n",
    "\r\n",
    "driver.get('https://imgur.com/')\r\n",
    "\r\n",
    "images = driver.find_elements_by_tag_name('img')\r\n",
    "for image in images:\r\n",
    "    print(image.get_attribute('src'))\r\n",
    "#driver.close()"
   ],
   "outputs": [],
   "metadata": {}
  },
  {
   "cell_type": "markdown",
   "source": [
    "#### Example 6"
   ],
   "metadata": {}
  },
  {
   "cell_type": "code",
   "execution_count": null,
   "source": [
    "opts = Options()\r\n",
    "opts.headless = True\r\n",
    "\r\n",
    "driver = webdriver.Chrome(options=opts)\r\n",
    "\r\n",
    "try:\r\n",
    "    page_link = driver.get('https://www.linsoul.com/')\r\n",
    "    \r\n",
    "finally:\r\n",
    "    driver.quit()\r\n"
   ],
   "outputs": [],
   "metadata": {}
  },
  {
   "cell_type": "markdown",
   "source": [
    "#### Example 7"
   ],
   "metadata": {}
  },
  {
   "cell_type": "code",
   "execution_count": 6,
   "source": [
    "driver = webdriver.Chrome()\r\n",
    "driver.maximize_window()\r\n",
    "\r\n",
    "page_url = driver.get(\"https://www.linsoul.com/\")\r\n",
    "driver.refresh()"
   ],
   "outputs": [],
   "metadata": {}
  },
  {
   "cell_type": "markdown",
   "source": [
    "#### Example 8"
   ],
   "metadata": {}
  },
  {
   "cell_type": "code",
   "execution_count": null,
   "source": [
    "chrome_options = Options()\r\n",
    "chrome_options.add_argument(\"--incognito\")\r\n",
    "\r\n",
    "driver = webdriver.Chrome(options=chrome_options)\r\n",
    "driver.get('https://google.com')"
   ],
   "outputs": [],
   "metadata": {}
  },
  {
   "cell_type": "markdown",
   "source": [
    "#### Example 9"
   ],
   "metadata": {}
  },
  {
   "cell_type": "code",
   "execution_count": null,
   "source": [
    "driver = webdriver.Chrome()\r\n",
    "driver.maximize_window()\r\n",
    "driver.get(\"https://www.linsoul.com/\")\r\n",
    "# to fire up a new tab using javascript and load google.com\r\n",
    "driver.execute_script('''window.open(\"https://www.google.com\", \"_blank\");''')\r\n",
    "time.sleep(5)\r\n",
    "driver.quit()"
   ],
   "outputs": [],
   "metadata": {}
  },
  {
   "cell_type": "markdown",
   "source": [
    "#### Example 10"
   ],
   "metadata": {}
  },
  {
   "cell_type": "code",
   "execution_count": null,
   "source": [
    "# Create Chrome Object\r\n",
    "driver = webdriver.Chrome()\r\n",
    "  \r\n",
    "  \r\n",
    "def github_repo(user_name, pass_word, \r\n",
    "                repository_name, descriptions=False,\r\n",
    "                private=False, readme=False):\r\n",
    "      \r\n",
    "    # Open github login page\r\n",
    "    driver.get('https://github.com/login')\r\n",
    "  \r\n",
    "    # Username\r\n",
    "    username = driver.find_element_by_xpath('//*[@id=\"login_field\"]')\r\n",
    "    username.send_keys(user_name)\r\n",
    "  \r\n",
    "    # Password\r\n",
    "    password = driver.find_element_by_xpath('//*[@id=\"password\"]')\r\n",
    "    password.send_keys(pass_word)\r\n",
    "  \r\n",
    "    # Click on sigin button\r\n",
    "    sigin = driver.find_element_by_xpath(\r\n",
    "        '//*[@id=\"login\"]/div[4]/form/input[14]')\r\n",
    "    sigin.click()\r\n",
    "  \r\n",
    "    # Create new repo.\r\n",
    "    new_repo = driver.find_element_by_xpath('//*[@id=\"repos-container\"]/h2/a')\r\n",
    "    new_repo.click()\r\n",
    "  \r\n",
    "    # Enter Repo. name\r\n",
    "    repositoryname = driver.find_element_by_xpath('//*[@id=\"repository_name\"]')\r\n",
    "    repositoryname.send_keys(repository_name)\r\n",
    "  \r\n",
    "    # Optional\r\n",
    "  \r\n",
    "    # Enter Description\r\n",
    "    if descriptions:\r\n",
    "        description = driver.find_element_by_xpath(\r\n",
    "            '//*[@id=\"repository_description\"]')\r\n",
    "        description.send_keys(descriptions)\r\n",
    "  \r\n",
    "    # Private Mode\r\n",
    "    if private:\r\n",
    "        private = driver.find_element_by_xpath(\r\n",
    "            '//*[@id=\"repository_visibility_private\"]')\r\n",
    "        private.click()\r\n",
    "  \r\n",
    "    # Create ReadMe File\r\n",
    "    if readme:\r\n",
    "        readme = driver.find_element_by_xpath(\r\n",
    "            '//*[@id=\"repository_auto_init\"]')\r\n",
    "        readme.click()\r\n",
    "  \r\n",
    "  \r\n",
    "github_repo(\"Enter Usename\", \"Enter Password\", \r\n",
    "            \"Repository name\")\r\n",
    "  \r\n",
    "print(\"Respositry created\")\r\n",
    "  \r\n",
    "create_repo = driver.find_element_by_xpath(\r\n",
    "    '//*[@id=\"new_repository\"]/div[4]/button')\r\n",
    "  \r\n",
    "create_repo.click()"
   ],
   "outputs": [],
   "metadata": {}
  }
 ],
 "metadata": {
  "orig_nbformat": 4,
  "language_info": {
   "name": "python",
   "version": "3.9.6",
   "mimetype": "text/x-python",
   "codemirror_mode": {
    "name": "ipython",
    "version": 3
   },
   "pygments_lexer": "ipython3",
   "nbconvert_exporter": "python",
   "file_extension": ".py"
  },
  "kernelspec": {
   "name": "python3",
   "display_name": "Python 3.9.6 64-bit"
  },
  "interpreter": {
   "hash": "695fdcca269af3d6a8ba574644b28da51c179bed1508fadbe7ac7893d6027de2"
  }
 },
 "nbformat": 4,
 "nbformat_minor": 2
}